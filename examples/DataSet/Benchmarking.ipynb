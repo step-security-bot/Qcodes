{
 "cells": [
  {
   "cell_type": "markdown",
   "metadata": {},
   "source": [
    "# Dataset Benchmarking\n",
    "\n",
    "This notebook is a behind-the-scenes benchmarking notebook, mainly for use by developers. The recommended way for users to interact with the dataset is via the `Measurement` object and its associated context manager. See the corresponding notebook for a comprehensive toturial on how to use those."
   ]
  },
  {
   "cell_type": "code",
   "execution_count": 1,
   "metadata": {
    "execution": {
     "iopub.execute_input": "2024-02-26T09:08:37.092463Z",
     "iopub.status.busy": "2024-02-26T09:08:37.091967Z",
     "iopub.status.idle": "2024-02-26T09:08:38.443991Z",
     "shell.execute_reply": "2024-02-26T09:08:38.443286Z"
    }
   },
   "outputs": [
    {
     "name": "stdout",
     "output_type": "stream",
     "text": [
      "Logging hadn't been started.\n",
      "Activating auto-logging. Current session state plus future input saved.\n",
      "Filename       : /home/runner/.qcodes/logs/command_history.log\n",
      "Mode           : append\n",
      "Output logging : True\n",
      "Raw input log  : False\n",
      "Timestamping   : True\n",
      "State          : active\n"
     ]
    },
    {
     "name": "stdout",
     "output_type": "stream",
     "text": [
      "Qcodes Logfile : /home/runner/.qcodes/logs/240226-20074-qcodes.log\n"
     ]
    }
   ],
   "source": [
    "%matplotlib inline\n",
    "from pathlib import Path\n",
    "\n",
    "import numpy as np\n",
    "\n",
    "import qcodes as qc\n",
    "from qcodes.dataset import (\n",
    "    ParamSpec,\n",
    "    initialise_or_create_database_at,\n",
    "    load_or_create_experiment,\n",
    "    new_data_set,\n",
    ")"
   ]
  },
  {
   "cell_type": "code",
   "execution_count": 2,
   "metadata": {
    "execution": {
     "iopub.execute_input": "2024-02-26T09:08:38.447097Z",
     "iopub.status.busy": "2024-02-26T09:08:38.446455Z",
     "iopub.status.idle": "2024-02-26T09:08:38.452661Z",
     "shell.execute_reply": "2024-02-26T09:08:38.452057Z"
    }
   },
   "outputs": [
    {
     "data": {
      "text/plain": [
       "'~/experiments.db'"
      ]
     },
     "execution_count": 2,
     "metadata": {},
     "output_type": "execute_result"
    }
   ],
   "source": [
    "qc.config.core.db_location"
   ]
  },
  {
   "cell_type": "code",
   "execution_count": 3,
   "metadata": {
    "execution": {
     "iopub.execute_input": "2024-02-26T09:08:38.454741Z",
     "iopub.status.busy": "2024-02-26T09:08:38.454557Z",
     "iopub.status.idle": "2024-02-26T09:08:38.487663Z",
     "shell.execute_reply": "2024-02-26T09:08:38.486967Z"
    }
   },
   "outputs": [],
   "source": [
    "initialise_or_create_database_at(Path.cwd() / \"benchmarking.db\")"
   ]
  },
  {
   "cell_type": "markdown",
   "metadata": {},
   "source": [
    "## Setup"
   ]
  },
  {
   "cell_type": "code",
   "execution_count": 4,
   "metadata": {
    "execution": {
     "iopub.execute_input": "2024-02-26T09:08:38.490600Z",
     "iopub.status.busy": "2024-02-26T09:08:38.490067Z",
     "iopub.status.idle": "2024-02-26T09:08:38.498901Z",
     "shell.execute_reply": "2024-02-26T09:08:38.498334Z"
    }
   },
   "outputs": [
    {
     "data": {
      "text/plain": [
       "benchmarking#the sample is a lie#1@/home/runner/work/Qcodes/Qcodes/docs/examples/DataSet/benchmarking.db\n",
       "--------------------------------------------------------------------------------------------------------"
      ]
     },
     "execution_count": 4,
     "metadata": {},
     "output_type": "execute_result"
    }
   ],
   "source": [
    "exp = load_or_create_experiment(\"benchmarking\", sample_name=\"the sample is a lie\")\n",
    "exp"
   ]
  },
  {
   "cell_type": "markdown",
   "metadata": {},
   "source": [
    "Now we can create a dataset. Note two things:\n",
    "\n",
    "    - if we don't specfiy a exp_id, but we have an experiment in the experiment container the dataset will go into that one.\n",
    "    - dataset can be created from the experiment object\n",
    "    "
   ]
  },
  {
   "cell_type": "code",
   "execution_count": 5,
   "metadata": {
    "execution": {
     "iopub.execute_input": "2024-02-26T09:08:38.501281Z",
     "iopub.status.busy": "2024-02-26T09:08:38.500921Z",
     "iopub.status.idle": "2024-02-26T09:08:38.508406Z",
     "shell.execute_reply": "2024-02-26T09:08:38.507790Z"
    }
   },
   "outputs": [
    {
     "data": {
      "text/plain": [
       "benchmarking#the sample is a lie#1@/home/runner/work/Qcodes/Qcodes/docs/examples/DataSet/benchmarking.db\n",
       "--------------------------------------------------------------------------------------------------------\n",
       "1-benchmark_data-1-None-0"
      ]
     },
     "execution_count": 5,
     "metadata": {},
     "output_type": "execute_result"
    }
   ],
   "source": [
    "dataSet = new_data_set(\"benchmark_data\", exp_id=exp.exp_id)\n",
    "exp"
   ]
  },
  {
   "cell_type": "markdown",
   "metadata": {},
   "source": [
    "In this benchmark we will assueme that we are doing a 2D loop and investigate the performance implications of writing to the dataset"
   ]
  },
  {
   "cell_type": "code",
   "execution_count": 6,
   "metadata": {
    "execution": {
     "iopub.execute_input": "2024-02-26T09:08:38.510925Z",
     "iopub.status.busy": "2024-02-26T09:08:38.510743Z",
     "iopub.status.idle": "2024-02-26T09:08:38.513746Z",
     "shell.execute_reply": "2024-02-26T09:08:38.513145Z"
    }
   },
   "outputs": [],
   "source": [
    "x_shape = 100\n",
    "y_shape = 100"
   ]
  },
  {
   "cell_type": "markdown",
   "metadata": {},
   "source": [
    "## Baseline: Generate data"
   ]
  },
  {
   "cell_type": "code",
   "execution_count": 7,
   "metadata": {
    "execution": {
     "iopub.execute_input": "2024-02-26T09:08:38.515803Z",
     "iopub.status.busy": "2024-02-26T09:08:38.515627Z",
     "iopub.status.idle": "2024-02-26T09:08:38.526350Z",
     "shell.execute_reply": "2024-02-26T09:08:38.525743Z"
    }
   },
   "outputs": [
    {
     "name": "stdout",
     "output_type": "stream",
     "text": [
      "CPU times: user 7.57 ms, sys: 0 ns, total: 7.57 ms\n",
      "Wall time: 7.24 ms\n"
     ]
    }
   ],
   "source": [
    "%%time\n",
    "for x in range(x_shape):\n",
    "    for y in range(y_shape):\n",
    "        z = np.random.random_sample(1)"
   ]
  },
  {
   "cell_type": "markdown",
   "metadata": {},
   "source": [
    "and store in memory"
   ]
  },
  {
   "cell_type": "code",
   "execution_count": 8,
   "metadata": {
    "execution": {
     "iopub.execute_input": "2024-02-26T09:08:38.528431Z",
     "iopub.status.busy": "2024-02-26T09:08:38.528250Z",
     "iopub.status.idle": "2024-02-26T09:08:38.531699Z",
     "shell.execute_reply": "2024-02-26T09:08:38.531062Z"
    }
   },
   "outputs": [],
   "source": [
    "x_data = np.zeros((x_shape, y_shape))\n",
    "y_data = np.zeros((x_shape, y_shape))\n",
    "z_data = np.zeros((x_shape, y_shape))"
   ]
  },
  {
   "cell_type": "code",
   "execution_count": 9,
   "metadata": {
    "execution": {
     "iopub.execute_input": "2024-02-26T09:08:38.533613Z",
     "iopub.status.busy": "2024-02-26T09:08:38.533443Z",
     "iopub.status.idle": "2024-02-26T09:08:38.544930Z",
     "shell.execute_reply": "2024-02-26T09:08:38.544276Z"
    }
   },
   "outputs": [
    {
     "name": "stdout",
     "output_type": "stream",
     "text": [
      "CPU times: user 7.6 ms, sys: 0 ns, total: 7.6 ms\n",
      "Wall time: 7.55 ms\n"
     ]
    }
   ],
   "source": [
    "%%time\n",
    "for x in range(x_shape):\n",
    "    for y in range(y_shape):\n",
    "        x_data[x,y] = x\n",
    "        y_data[x,y] = y\n",
    "        z_data[x,y] = np.random.random_sample()"
   ]
  },
  {
   "cell_type": "markdown",
   "metadata": {},
   "source": [
    "## Add to dataset inside double loop"
   ]
  },
  {
   "cell_type": "code",
   "execution_count": 10,
   "metadata": {
    "execution": {
     "iopub.execute_input": "2024-02-26T09:08:38.547302Z",
     "iopub.status.busy": "2024-02-26T09:08:38.546853Z",
     "iopub.status.idle": "2024-02-26T09:08:38.559300Z",
     "shell.execute_reply": "2024-02-26T09:08:38.558671Z"
    }
   },
   "outputs": [],
   "source": [
    "double_dataset = new_data_set(\"doubledata\", exp_id=exp.exp_id,\n",
    "                              specs=[ParamSpec(\"x\", \"numeric\"),\n",
    "                                     ParamSpec(\"y\", \"numeric\"),\n",
    "                                     ParamSpec('z', \"numeric\")])\n",
    "double_dataset.mark_started()"
   ]
  },
  {
   "cell_type": "markdown",
   "metadata": {},
   "source": [
    "Note that this is so slow that we are only doing a 10th of the computation"
   ]
  },
  {
   "cell_type": "code",
   "execution_count": 11,
   "metadata": {
    "execution": {
     "iopub.execute_input": "2024-02-26T09:08:38.561856Z",
     "iopub.status.busy": "2024-02-26T09:08:38.561670Z",
     "iopub.status.idle": "2024-02-26T09:08:39.410327Z",
     "shell.execute_reply": "2024-02-26T09:08:39.409787Z"
    }
   },
   "outputs": [
    {
     "name": "stdout",
     "output_type": "stream",
     "text": [
      "CPU times: user 233 ms, sys: 91.3 ms, total: 325 ms\n",
      "Wall time: 844 ms\n"
     ]
    }
   ],
   "source": [
    "%%time\n",
    "for x in range(x_shape//10):\n",
    "    for y in range(y_shape):\n",
    "        double_dataset.add_results([{\"x\": x, 'y': y, 'z': np.random.random_sample()}])"
   ]
  },
  {
   "cell_type": "markdown",
   "metadata": {},
   "source": [
    "## Add the data in outer loop and store as np array"
   ]
  },
  {
   "cell_type": "code",
   "execution_count": 12,
   "metadata": {
    "execution": {
     "iopub.execute_input": "2024-02-26T09:08:39.414042Z",
     "iopub.status.busy": "2024-02-26T09:08:39.413108Z",
     "iopub.status.idle": "2024-02-26T09:08:39.426188Z",
     "shell.execute_reply": "2024-02-26T09:08:39.425595Z"
    }
   },
   "outputs": [],
   "source": [
    "single_dataset = new_data_set(\"singledata\", exp_id=exp.exp_id,\n",
    "                              specs=[ParamSpec(\"x\", \"array\"),\n",
    "                                     ParamSpec(\"y\", \"array\"),\n",
    "                                     ParamSpec('z', \"array\")])\n",
    "single_dataset.mark_started()\n",
    "x_data = np.zeros(y_shape)\n",
    "y_data = np.zeros(y_shape)\n",
    "z_data = np.zeros(y_shape)"
   ]
  },
  {
   "cell_type": "code",
   "execution_count": 13,
   "metadata": {
    "execution": {
     "iopub.execute_input": "2024-02-26T09:08:39.428780Z",
     "iopub.status.busy": "2024-02-26T09:08:39.428453Z",
     "iopub.status.idle": "2024-02-26T09:08:39.499365Z",
     "shell.execute_reply": "2024-02-26T09:08:39.498607Z"
    }
   },
   "outputs": [
    {
     "name": "stdout",
     "output_type": "stream",
     "text": [
      "CPU times: user 46.3 ms, sys: 1.91 ms, total: 48.2 ms\n",
      "Wall time: 66.4 ms\n"
     ]
    }
   ],
   "source": [
    "%%time\n",
    "for x in range(x_shape):\n",
    "    for y in range(y_shape):\n",
    "        x_data[y] = x\n",
    "        y_data[y] = y\n",
    "        z_data[y] = np.random.random_sample(1)\n",
    "    single_dataset.add_results([{\"x\": x_data, 'y': y_data, 'z': z_data}])"
   ]
  },
  {
   "cell_type": "markdown",
   "metadata": {},
   "source": [
    "## Save once after loop"
   ]
  },
  {
   "cell_type": "code",
   "execution_count": 14,
   "metadata": {
    "execution": {
     "iopub.execute_input": "2024-02-26T09:08:39.501756Z",
     "iopub.status.busy": "2024-02-26T09:08:39.501549Z",
     "iopub.status.idle": "2024-02-26T09:08:39.511693Z",
     "shell.execute_reply": "2024-02-26T09:08:39.510964Z"
    }
   },
   "outputs": [],
   "source": [
    "zero_dataset = new_data_set(\"zerodata\", exp_id=exp.exp_id,\n",
    "                            specs=[ParamSpec(\"x\", \"array\"),\n",
    "                                   ParamSpec(\"y\", \"array\"),\n",
    "                                   ParamSpec('z', \"array\")])\n",
    "zero_dataset.mark_started()\n",
    "x_data = np.zeros((x_shape, y_shape))\n",
    "y_data = np.zeros((x_shape, y_shape))\n",
    "z_data = np.zeros((x_shape, y_shape))"
   ]
  },
  {
   "cell_type": "code",
   "execution_count": 15,
   "metadata": {
    "execution": {
     "iopub.execute_input": "2024-02-26T09:08:39.514792Z",
     "iopub.status.busy": "2024-02-26T09:08:39.514582Z",
     "iopub.status.idle": "2024-02-26T09:08:39.555425Z",
     "shell.execute_reply": "2024-02-26T09:08:39.554837Z"
    }
   },
   "outputs": [
    {
     "name": "stdout",
     "output_type": "stream",
     "text": [
      "CPU times: user 36 ms, sys: 0 ns, total: 36 ms\n",
      "Wall time: 36.2 ms\n"
     ]
    }
   ],
   "source": [
    "%%time\n",
    "for x in range(x_shape):\n",
    "    for y in range(y_shape):\n",
    "        x_data[x,y] = x\n",
    "        y_data[x,y] = y\n",
    "        z_data[x,y] = np.random.random_sample(1)\n",
    "zero_dataset.add_results([{'x':x_data, 'y':y_data, 'z':z_data}])"
   ]
  },
  {
   "cell_type": "markdown",
   "metadata": {},
   "source": [
    "## Array parameter"
   ]
  },
  {
   "cell_type": "code",
   "execution_count": 16,
   "metadata": {
    "execution": {
     "iopub.execute_input": "2024-02-26T09:08:39.558614Z",
     "iopub.status.busy": "2024-02-26T09:08:39.558203Z",
     "iopub.status.idle": "2024-02-26T09:08:39.567132Z",
     "shell.execute_reply": "2024-02-26T09:08:39.566571Z"
    }
   },
   "outputs": [],
   "source": [
    "array1D_dataset = new_data_set(\"array1Ddata\", exp_id=exp.exp_id,\n",
    "                               specs=[ParamSpec(\"x\", \"array\"),\n",
    "                                      ParamSpec(\"y\", \"array\"),\n",
    "                                      ParamSpec('z', \"array\")])\n",
    "array1D_dataset.mark_started()\n",
    "y_setpoints = np.arange(y_shape)"
   ]
  },
  {
   "cell_type": "code",
   "execution_count": 17,
   "metadata": {
    "execution": {
     "iopub.execute_input": "2024-02-26T09:08:39.570183Z",
     "iopub.status.busy": "2024-02-26T09:08:39.569778Z",
     "iopub.status.idle": "2024-02-26T09:08:43.359352Z",
     "shell.execute_reply": "2024-02-26T09:08:43.358775Z"
    }
   },
   "outputs": [
    {
     "name": "stdout",
     "output_type": "stream",
     "text": [
      "46 ms ± 1.57 ms per loop (mean ± std. dev. of 7 runs, 10 loops each)\n"
     ]
    }
   ],
   "source": [
    "%%timeit\n",
    "for x in range(x_shape):\n",
    "    x_data[x,:] = x\n",
    "    array1D_dataset.add_results([{'x':x_data[x,:], 'y':y_setpoints, 'z':np.random.random_sample(y_shape)}])"
   ]
  },
  {
   "cell_type": "code",
   "execution_count": 18,
   "metadata": {
    "execution": {
     "iopub.execute_input": "2024-02-26T09:08:43.361504Z",
     "iopub.status.busy": "2024-02-26T09:08:43.361219Z",
     "iopub.status.idle": "2024-02-26T09:08:43.365020Z",
     "shell.execute_reply": "2024-02-26T09:08:43.364453Z"
    }
   },
   "outputs": [],
   "source": [
    "x_data = np.zeros((x_shape, y_shape))\n",
    "y_data = np.zeros((x_shape, y_shape))\n",
    "z_data = np.zeros((x_shape, y_shape))\n",
    "y_setpoints = np.arange(y_shape)"
   ]
  },
  {
   "cell_type": "code",
   "execution_count": 19,
   "metadata": {
    "execution": {
     "iopub.execute_input": "2024-02-26T09:08:43.367418Z",
     "iopub.status.busy": "2024-02-26T09:08:43.366938Z",
     "iopub.status.idle": "2024-02-26T09:08:43.374634Z",
     "shell.execute_reply": "2024-02-26T09:08:43.374208Z"
    }
   },
   "outputs": [],
   "source": [
    "array0D_dataset = new_data_set(\"array0Ddata\", exp_id=exp.exp_id,\n",
    "                               specs=[ParamSpec(\"x\", \"array\"),\n",
    "                                      ParamSpec(\"y\", \"array\"),\n",
    "                                      ParamSpec('z', \"array\")])\n",
    "array0D_dataset.mark_started()"
   ]
  },
  {
   "cell_type": "code",
   "execution_count": 20,
   "metadata": {
    "execution": {
     "iopub.execute_input": "2024-02-26T09:08:43.376746Z",
     "iopub.status.busy": "2024-02-26T09:08:43.376415Z",
     "iopub.status.idle": "2024-02-26T09:08:45.172149Z",
     "shell.execute_reply": "2024-02-26T09:08:45.171429Z"
    }
   },
   "outputs": [
    {
     "name": "stdout",
     "output_type": "stream",
     "text": [
      "2.17 ms ± 82.7 µs per loop (mean ± std. dev. of 7 runs, 100 loops each)\n"
     ]
    }
   ],
   "source": [
    "%%timeit\n",
    "for x in range(x_shape):\n",
    "    x_data[x,:] = x\n",
    "    y_data[x,:] = y_setpoints\n",
    "    z_data[x,:] = np.random.random_sample(y_shape)\n",
    "array0D_dataset.add_results([{'x':x_data, 'y':y_data, 'z':z_data}])"
   ]
  },
  {
   "cell_type": "markdown",
   "metadata": {},
   "source": [
    "## Insert many"
   ]
  },
  {
   "cell_type": "code",
   "execution_count": 21,
   "metadata": {
    "execution": {
     "iopub.execute_input": "2024-02-26T09:08:45.174364Z",
     "iopub.status.busy": "2024-02-26T09:08:45.174117Z",
     "iopub.status.idle": "2024-02-26T09:08:45.183320Z",
     "shell.execute_reply": "2024-02-26T09:08:45.182750Z"
    }
   },
   "outputs": [],
   "source": [
    "data = []\n",
    "for i in range(100):\n",
    "    for j in range(100):\n",
    "        data.append({'x': i, 'y':j, 'z':np.random.random_sample()})"
   ]
  },
  {
   "cell_type": "code",
   "execution_count": 22,
   "metadata": {
    "execution": {
     "iopub.execute_input": "2024-02-26T09:08:45.185435Z",
     "iopub.status.busy": "2024-02-26T09:08:45.185115Z",
     "iopub.status.idle": "2024-02-26T09:08:45.193443Z",
     "shell.execute_reply": "2024-02-26T09:08:45.192900Z"
    }
   },
   "outputs": [],
   "source": [
    "many_Data = new_data_set(\"many_data\", exp_id=exp.exp_id,\n",
    "                         specs=[ParamSpec(\"x\", \"numeric\"),\n",
    "                                ParamSpec(\"y\", \"numeric\"),\n",
    "                                ParamSpec(\"z\", \"numeric\")])\n",
    "many_Data.mark_started()"
   ]
  },
  {
   "cell_type": "code",
   "execution_count": 23,
   "metadata": {
    "execution": {
     "iopub.execute_input": "2024-02-26T09:08:45.195486Z",
     "iopub.status.busy": "2024-02-26T09:08:45.195193Z",
     "iopub.status.idle": "2024-02-26T09:08:46.905652Z",
     "shell.execute_reply": "2024-02-26T09:08:46.905008Z"
    }
   },
   "outputs": [
    {
     "name": "stdout",
     "output_type": "stream",
     "text": [
      "20 ms ± 1.77 ms per loop (mean ± std. dev. of 7 runs, 10 loops each)\n"
     ]
    }
   ],
   "source": [
    "%%timeit\n",
    "many_Data.add_results(data)"
   ]
  }
 ],
 "metadata": {
  "kernelspec": {
   "display_name": "Python 3",
   "language": "python",
   "name": "python3"
  },
  "language_info": {
   "codemirror_mode": {
    "name": "ipython",
    "version": 3
   },
   "file_extension": ".py",
   "mimetype": "text/x-python",
   "name": "python",
   "nbconvert_exporter": "python",
   "pygments_lexer": "ipython3",
   "version": "3.11.8"
  },
  "nbsphinx": {
   "timeout": 600
  }
 },
 "nbformat": 4,
 "nbformat_minor": 2
}
