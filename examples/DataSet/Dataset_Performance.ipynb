{
 "cells": [
  {
   "cell_type": "markdown",
   "metadata": {},
   "source": [
    "# DataSet Performance\n",
    "\n",
    "This notebook shows the trade-off between inserting data into a database row-by-row and as binary blobs. Inserting the data row-by-row means that we have direct access to all the data and may perform queries directly on the values of the data. On the other hand, as we shall see, this is much slower than inserting the data directly as binary blobs."
   ]
  },
  {
   "cell_type": "markdown",
   "metadata": {},
   "source": [
    "First, we choose a new location for the database to ensure that we don't add a bunch of benchmarking data to the default one."
   ]
  },
  {
   "cell_type": "code",
   "execution_count": 1,
   "metadata": {
    "execution": {
     "iopub.execute_input": "2024-02-26T09:03:44.824782Z",
     "iopub.status.busy": "2024-02-26T09:03:44.824279Z",
     "iopub.status.idle": "2024-02-26T09:03:46.099013Z",
     "shell.execute_reply": "2024-02-26T09:03:46.098304Z"
    }
   },
   "outputs": [
    {
     "name": "stdout",
     "output_type": "stream",
     "text": [
      "Logging hadn't been started.\n",
      "Activating auto-logging. Current session state plus future input saved.\n",
      "Filename       : /home/runner/.qcodes/logs/command_history.log\n",
      "Mode           : append\n",
      "Output logging : True\n",
      "Raw input log  : False\n",
      "Timestamping   : True\n",
      "State          : active\n"
     ]
    },
    {
     "name": "stdout",
     "output_type": "stream",
     "text": [
      "Qcodes Logfile : /home/runner/.qcodes/logs/240226-13605-qcodes.log\n"
     ]
    }
   ],
   "source": [
    "import os\n",
    "\n",
    "cwd = os.getcwd()\n",
    "import qcodes as qc\n",
    "\n",
    "qc.config[\"core\"][\"db_location\"] = os.path.join(cwd, 'testing.db')"
   ]
  },
  {
   "cell_type": "code",
   "execution_count": 2,
   "metadata": {
    "execution": {
     "iopub.execute_input": "2024-02-26T09:03:46.101715Z",
     "iopub.status.busy": "2024-02-26T09:03:46.101507Z",
     "iopub.status.idle": "2024-02-26T09:03:46.120905Z",
     "shell.execute_reply": "2024-02-26T09:03:46.120274Z"
    }
   },
   "outputs": [],
   "source": [
    "%matplotlib inline\n",
    "import time\n",
    "from pathlib import Path\n",
    "\n",
    "import matplotlib.pyplot as plt\n",
    "import numpy as np\n",
    "\n",
    "import qcodes as qc\n",
    "from qcodes.dataset import (\n",
    "    Measurement,\n",
    "    initialise_or_create_database_at,\n",
    "    load_or_create_experiment,\n",
    ")\n",
    "from qcodes.parameters import ManualParameter"
   ]
  },
  {
   "cell_type": "code",
   "execution_count": 3,
   "metadata": {
    "execution": {
     "iopub.execute_input": "2024-02-26T09:03:46.123608Z",
     "iopub.status.busy": "2024-02-26T09:03:46.123070Z",
     "iopub.status.idle": "2024-02-26T09:03:46.160784Z",
     "shell.execute_reply": "2024-02-26T09:03:46.160121Z"
    }
   },
   "outputs": [],
   "source": [
    "initialise_or_create_database_at(Path.cwd() / \"dataset_performance.db\")\n",
    "exp = load_or_create_experiment(experiment_name='tutorial_exp', sample_name=\"no sample\")"
   ]
  },
  {
   "cell_type": "markdown",
   "metadata": {},
   "source": [
    "Here, we define a simple function to benchmark the time it takes to insert n points with either numeric or array data type.\n",
    "We will compare both the time used to call ``add_result`` and the time used for the full measurement."
   ]
  },
  {
   "cell_type": "code",
   "execution_count": 4,
   "metadata": {
    "execution": {
     "iopub.execute_input": "2024-02-26T09:03:46.163660Z",
     "iopub.status.busy": "2024-02-26T09:03:46.163279Z",
     "iopub.status.idle": "2024-02-26T09:03:46.169286Z",
     "shell.execute_reply": "2024-02-26T09:03:46.168710Z"
    }
   },
   "outputs": [],
   "source": [
    "def insert_data(paramtype, npoints, nreps=1):\n",
    "\n",
    "    meas = Measurement(exp=exp)\n",
    "\n",
    "    x1 = ManualParameter('x1')\n",
    "    x2 = ManualParameter('x2')\n",
    "    x3 = ManualParameter('x3')\n",
    "    y1 = ManualParameter('y1')\n",
    "    y2 = ManualParameter('y2')\n",
    "\n",
    "    meas.register_parameter(x1, paramtype=paramtype)\n",
    "    meas.register_parameter(x2, paramtype=paramtype)\n",
    "    meas.register_parameter(x3, paramtype=paramtype)\n",
    "    meas.register_parameter(y1, setpoints=[x1, x2, x3],\n",
    "                            paramtype=paramtype)\n",
    "    meas.register_parameter(y2, setpoints=[x1, x2, x3],\n",
    "                            paramtype=paramtype)\n",
    "    start = time.perf_counter()\n",
    "    with meas.run() as datasaver:\n",
    "        start_adding = time.perf_counter()\n",
    "        for i in range(nreps):\n",
    "            datasaver.add_result((x1, np.random.rand(npoints)),\n",
    "                                 (x2, np.random.rand(npoints)),\n",
    "                                 (x3, np.random.rand(npoints)),\n",
    "                                 (y1, np.random.rand(npoints)),\n",
    "                                 (y2, np.random.rand(npoints)))\n",
    "        stop_adding = time.perf_counter()\n",
    "        run_id = datasaver.run_id\n",
    "    stop = time.perf_counter()\n",
    "    tot_time = stop - start\n",
    "    add_time = stop_adding - start_adding\n",
    "    return tot_time, add_time, run_id"
   ]
  },
  {
   "cell_type": "markdown",
   "metadata": {},
   "source": [
    "## Comparison between numeric/array data and binary blob"
   ]
  },
  {
   "cell_type": "markdown",
   "metadata": {},
   "source": [
    "### Case1: Short experiment time"
   ]
  },
  {
   "cell_type": "code",
   "execution_count": 5,
   "metadata": {
    "execution": {
     "iopub.execute_input": "2024-02-26T09:03:46.171778Z",
     "iopub.status.busy": "2024-02-26T09:03:46.171376Z",
     "iopub.status.idle": "2024-02-26T09:03:46.633822Z",
     "shell.execute_reply": "2024-02-26T09:03:46.633164Z"
    }
   },
   "outputs": [
    {
     "name": "stdout",
     "output_type": "stream",
     "text": [
      "Starting experimental run with id: 1. \n",
      "Starting experimental run with id: 2. \n",
      "Starting experimental run with id: 3. \n",
      "Starting experimental run with id: 4. \n",
      "Starting experimental run with id: 5. \n",
      "Starting experimental run with id: 6. \n",
      "Starting experimental run with id: 7. \n"
     ]
    },
    {
     "name": "stdout",
     "output_type": "stream",
     "text": [
      "Starting experimental run with id: 8. \n",
      "Starting experimental run with id: 9. \n",
      "Starting experimental run with id: 10. \n",
      "Starting experimental run with id: 11. \n",
      "Starting experimental run with id: 12. \n",
      "Starting experimental run with id: 13. \n"
     ]
    },
    {
     "name": "stdout",
     "output_type": "stream",
     "text": [
      "Starting experimental run with id: 14. \n"
     ]
    }
   ],
   "source": [
    "sizes = [1,500,1000,2000,3000,4000,5000]\n",
    "t_numeric = []\n",
    "t_numeric_add = []\n",
    "t_array = []\n",
    "t_array_add = []\n",
    "for size in sizes:\n",
    "    tn, tna, run_id_n =  insert_data('numeric', size)\n",
    "    t_numeric.append(tn)\n",
    "    t_numeric_add.append(tna)\n",
    "\n",
    "    ta, taa, run_id_a =  insert_data('array', size)\n",
    "    t_array.append(ta)\n",
    "    t_array_add.append(taa)"
   ]
  },
  {
   "cell_type": "code",
   "execution_count": 6,
   "metadata": {
    "execution": {
     "iopub.execute_input": "2024-02-26T09:03:46.636758Z",
     "iopub.status.busy": "2024-02-26T09:03:46.636380Z",
     "iopub.status.idle": "2024-02-26T09:03:46.840501Z",
     "shell.execute_reply": "2024-02-26T09:03:46.839904Z"
    }
   },
   "outputs": [
    {
     "data": {
      "image/png": "[encoded data removed]",
      "text/plain": [
       "<Figure size 640x480 with 1 Axes>"
      ]
     },
     "metadata": {},
     "output_type": "display_data"
    }
   ],
   "source": [
    "fig, ax = plt.subplots(1,1)\n",
    "ax.plot(sizes, t_numeric, 'o-', label='Inserting row-by-row')\n",
    "ax.plot(sizes, t_numeric_add, 'o-', label='Inserting row-by-row: add_result only')\n",
    "ax.plot(sizes, t_array, 'd-', label='Inserting as binary blob')\n",
    "ax.plot(sizes, t_array_add, 'd-', label='Inserting as binary blob: add_result only')\n",
    "ax.legend()\n",
    "ax.set_xlabel('Array length')\n",
    "ax.set_ylabel('Time (s)')\n",
    "fig.tight_layout()"
   ]
  },
  {
   "cell_type": "markdown",
   "metadata": {},
   "source": [
    "As shown in the latter figure, the time to setup and and close the experiment is approximately 0.4 sec. In case of small array sizes, the difference between inserting values of data as arrays and inserting them row-by-row is relatively unimportant. At larger array sizes, i.e. above 10000 points, the cost of writing data as individual datapoints starts to become important.\n"
   ]
  },
  {
   "cell_type": "markdown",
   "metadata": {},
   "source": [
    "### Case2: Long experiment time "
   ]
  },
  {
   "cell_type": "code",
   "execution_count": 7,
   "metadata": {
    "execution": {
     "iopub.execute_input": "2024-02-26T09:03:46.842812Z",
     "iopub.status.busy": "2024-02-26T09:03:46.842627Z",
     "iopub.status.idle": "2024-02-26T09:04:06.970465Z",
     "shell.execute_reply": "2024-02-26T09:04:06.969883Z"
    }
   },
   "outputs": [
    {
     "name": "stdout",
     "output_type": "stream",
     "text": [
      "Starting experimental run with id: 15. \n",
      "Starting experimental run with id: 16. \n",
      "Starting experimental run with id: 17. \n"
     ]
    },
    {
     "name": "stdout",
     "output_type": "stream",
     "text": [
      "Starting experimental run with id: 18. \n",
      "Starting experimental run with id: 19. \n"
     ]
    },
    {
     "name": "stdout",
     "output_type": "stream",
     "text": [
      "Starting experimental run with id: 20. \n",
      "Starting experimental run with id: 21. \n"
     ]
    },
    {
     "name": "stdout",
     "output_type": "stream",
     "text": [
      "Starting experimental run with id: 22. \n",
      "Starting experimental run with id: 23. \n"
     ]
    },
    {
     "name": "stdout",
     "output_type": "stream",
     "text": [
      "Starting experimental run with id: 24. \n"
     ]
    },
    {
     "name": "stdout",
     "output_type": "stream",
     "text": [
      "Starting experimental run with id: 25. \n"
     ]
    },
    {
     "name": "stdout",
     "output_type": "stream",
     "text": [
      "Starting experimental run with id: 26. \n"
     ]
    },
    {
     "name": "stdout",
     "output_type": "stream",
     "text": [
      "Starting experimental run with id: 27. \n"
     ]
    },
    {
     "name": "stdout",
     "output_type": "stream",
     "text": [
      "Starting experimental run with id: 28. \n"
     ]
    }
   ],
   "source": [
    "sizes = [1,500,1000,2000,3000,4000,5000]\n",
    "nreps = 100\n",
    "t_numeric = []\n",
    "t_numeric_add = []\n",
    "t_numeric_run_ids = []\n",
    "t_array = []\n",
    "t_array_add = []\n",
    "t_array_run_ids = []\n",
    "for size in sizes:\n",
    "    tn, tna, run_id_n =  insert_data('numeric', size, nreps=nreps)\n",
    "    t_numeric.append(tn)\n",
    "    t_numeric_add.append(tna)\n",
    "    t_numeric_run_ids.append(run_id_n)\n",
    "\n",
    "    ta, taa, run_id_a =  insert_data('array', size, nreps=nreps)\n",
    "    t_array.append(ta)\n",
    "    t_array_add.append(taa)\n",
    "    t_array_run_ids.append(run_id_a)"
   ]
  },
  {
   "cell_type": "code",
   "execution_count": 8,
   "metadata": {
    "execution": {
     "iopub.execute_input": "2024-02-26T09:04:06.973577Z",
     "iopub.status.busy": "2024-02-26T09:04:06.973344Z",
     "iopub.status.idle": "2024-02-26T09:04:07.171896Z",
     "shell.execute_reply": "2024-02-26T09:04:07.171160Z"
    },
    "scrolled": true
   },
   "outputs": [
    {
     "data": {
      "image/png": "[encoded data removed]",
      "text/plain": [
       "<Figure size 640x480 with 1 Axes>"
      ]
     },
     "metadata": {},
     "output_type": "display_data"
    }
   ],
   "source": [
    "fig, ax = plt.subplots(1,1)\n",
    "ax.plot(sizes, t_numeric, 'o-', label='Inserting row-by-row')\n",
    "ax.plot(sizes, t_numeric_add, 'o-', label='Inserting row-by-row: add_result only')\n",
    "ax.plot(sizes, t_array, 'd-', label='Inserting as binary blob')\n",
    "ax.plot(sizes, t_array_add, 'd-', label='Inserting as binary blob: add_result only')\n",
    "ax.legend()\n",
    "ax.set_xlabel('Array length')\n",
    "ax.set_ylabel('Time (s)')\n",
    "fig.tight_layout()"
   ]
  },
  {
   "cell_type": "markdown",
   "metadata": {},
   "source": [
    "However, as we increase the length of the experiment, as seen here by repeating the insertion 100 times, we see a big difference between inserting values of the data row-by-row and inserting it as a binary blob."
   ]
  },
  {
   "cell_type": "markdown",
   "metadata": {},
   "source": [
    "## Loading the data "
   ]
  },
  {
   "cell_type": "code",
   "execution_count": 9,
   "metadata": {
    "execution": {
     "iopub.execute_input": "2024-02-26T09:04:07.174136Z",
     "iopub.status.busy": "2024-02-26T09:04:07.173950Z",
     "iopub.status.idle": "2024-02-26T09:04:07.177068Z",
     "shell.execute_reply": "2024-02-26T09:04:07.176484Z"
    }
   },
   "outputs": [],
   "source": [
    "from qcodes.dataset import load_by_id"
   ]
  },
  {
   "cell_type": "markdown",
   "metadata": {},
   "source": [
    "As usual you can load the data by using the ``load_by_id`` function but you will notice that the different storage methods\n",
    "are reflected in shape of the data as it is retrieved. "
   ]
  },
  {
   "cell_type": "code",
   "execution_count": 10,
   "metadata": {
    "execution": {
     "iopub.execute_input": "2024-02-26T09:04:07.179192Z",
     "iopub.status.busy": "2024-02-26T09:04:07.178993Z",
     "iopub.status.idle": "2024-02-26T09:04:07.181988Z",
     "shell.execute_reply": "2024-02-26T09:04:07.181407Z"
    }
   },
   "outputs": [],
   "source": [
    "run_id_n = t_numeric_run_ids[0]\n",
    "run_id_a = t_array_run_ids[0]"
   ]
  },
  {
   "cell_type": "code",
   "execution_count": 11,
   "metadata": {
    "execution": {
     "iopub.execute_input": "2024-02-26T09:04:07.184018Z",
     "iopub.status.busy": "2024-02-26T09:04:07.183846Z",
     "iopub.status.idle": "2024-02-26T09:04:07.192747Z",
     "shell.execute_reply": "2024-02-26T09:04:07.192115Z"
    },
    "scrolled": true
   },
   "outputs": [
    {
     "data": {
      "text/plain": [
       "{'x1': {'x1': array([0.83179603, 0.83179603, 0.86263775, 0.86263775, 0.53986263,\n",
       "         0.53986263, 0.95697076, 0.95697076, 0.31934565, 0.31934565,\n",
       "         0.51214202, 0.51214202, 0.41042706, 0.41042706, 0.63864685,\n",
       "         0.63864685, 0.96433777, 0.96433777, 0.34776925, 0.34776925,\n",
       "         0.60319587, 0.60319587, 0.9443592 , 0.9443592 , 0.85554733,\n",
       "         0.85554733, 0.44082826, 0.44082826, 0.20312234, 0.20312234,\n",
       "         0.3012239 , 0.3012239 , 0.1801537 , 0.1801537 , 0.83764823,\n",
       "         0.83764823, 0.58681171, 0.58681171, 0.20221764, 0.20221764,\n",
       "         0.05951802, 0.05951802, 0.5405502 , 0.5405502 , 0.70568488,\n",
       "         0.70568488, 0.38999407, 0.38999407, 0.63080995, 0.63080995,\n",
       "         0.54316317, 0.54316317, 0.06166137, 0.06166137, 0.01502064,\n",
       "         0.01502064, 0.28077122, 0.28077122, 0.39778342, 0.39778342,\n",
       "         0.51069321, 0.51069321, 0.73482299, 0.73482299, 0.54327547,\n",
       "         0.54327547, 0.3115214 , 0.3115214 , 0.49227111, 0.49227111,\n",
       "         0.91044687, 0.91044687, 0.75168785, 0.75168785, 0.99526502,\n",
       "         0.99526502, 0.13360586, 0.13360586, 0.03858868, 0.03858868,\n",
       "         0.16512895, 0.16512895, 0.14070627, 0.14070627, 0.92748628,\n",
       "         0.92748628, 0.40726054, 0.40726054, 0.01602321, 0.01602321,\n",
       "         0.39359288, 0.39359288, 0.58304383, 0.58304383, 0.01337196,\n",
       "         0.01337196, 0.72731647, 0.72731647, 0.36537454, 0.36537454,\n",
       "         0.24005025, 0.24005025, 0.372088  , 0.372088  , 0.80371107,\n",
       "         0.80371107, 0.54947562, 0.54947562, 0.95447094, 0.95447094,\n",
       "         0.11496186, 0.11496186, 0.07678602, 0.07678602, 0.02123978,\n",
       "         0.02123978, 0.91393679, 0.91393679, 0.84438583, 0.84438583,\n",
       "         0.40636003, 0.40636003, 0.14712405, 0.14712405, 0.4172046 ,\n",
       "         0.4172046 , 0.14908717, 0.14908717, 0.62886774, 0.62886774,\n",
       "         0.08327507, 0.08327507, 0.8978717 , 0.8978717 , 0.7777199 ,\n",
       "         0.7777199 , 0.85308416, 0.85308416, 0.60019533, 0.60019533,\n",
       "         0.3350935 , 0.3350935 , 0.88728933, 0.88728933, 0.49561004,\n",
       "         0.49561004, 0.90657639, 0.90657639, 0.40204454, 0.40204454,\n",
       "         0.13492768, 0.13492768, 0.24202192, 0.24202192, 0.97794956,\n",
       "         0.97794956, 0.23707316, 0.23707316, 0.09954362, 0.09954362,\n",
       "         0.01285463, 0.01285463, 0.44088132, 0.44088132, 0.57403657,\n",
       "         0.57403657, 0.97435907, 0.97435907, 0.07323415, 0.07323415,\n",
       "         0.0134354 , 0.0134354 , 0.9299733 , 0.9299733 , 0.45274974,\n",
       "         0.45274974, 0.32517547, 0.32517547, 0.8025746 , 0.8025746 ,\n",
       "         0.71911701, 0.71911701, 0.69889883, 0.69889883, 0.01343204,\n",
       "         0.01343204, 0.07510784, 0.07510784, 0.05862476, 0.05862476,\n",
       "         0.26665452, 0.26665452, 0.30103374, 0.30103374, 0.77063245,\n",
       "         0.77063245, 0.34164127, 0.34164127, 0.50337453, 0.50337453])}}"
      ]
     },
     "execution_count": 11,
     "metadata": {},
     "output_type": "execute_result"
    }
   ],
   "source": [
    "ds = load_by_id(run_id_n)\n",
    "ds.get_parameter_data('x1')"
   ]
  },
  {
   "cell_type": "markdown",
   "metadata": {},
   "source": [
    "And a dataset stored as binary arrays"
   ]
  },
  {
   "cell_type": "code",
   "execution_count": 12,
   "metadata": {
    "execution": {
     "iopub.execute_input": "2024-02-26T09:04:07.194873Z",
     "iopub.status.busy": "2024-02-26T09:04:07.194703Z",
     "iopub.status.idle": "2024-02-26T09:04:07.213768Z",
     "shell.execute_reply": "2024-02-26T09:04:07.213119Z"
    },
    "scrolled": true
   },
   "outputs": [
    {
     "data": {
      "text/plain": [
       "{'x1': {'x1': array([[0.26080445],\n",
       "         [0.26080445],\n",
       "         [0.8029764 ],\n",
       "         [0.8029764 ],\n",
       "         [0.9291799 ],\n",
       "         [0.9291799 ],\n",
       "         [0.64399195],\n",
       "         [0.64399195],\n",
       "         [0.8697782 ],\n",
       "         [0.8697782 ],\n",
       "         [0.98259298],\n",
       "         [0.98259298],\n",
       "         [0.55870813],\n",
       "         [0.55870813],\n",
       "         [0.29365397],\n",
       "         [0.29365397],\n",
       "         [0.14575969],\n",
       "         [0.14575969],\n",
       "         [0.20864174],\n",
       "         [0.20864174],\n",
       "         [0.55017786],\n",
       "         [0.55017786],\n",
       "         [0.00353864],\n",
       "         [0.00353864],\n",
       "         [0.16193866],\n",
       "         [0.16193866],\n",
       "         [0.85700553],\n",
       "         [0.85700553],\n",
       "         [0.46597495],\n",
       "         [0.46597495],\n",
       "         [0.73968715],\n",
       "         [0.73968715],\n",
       "         [0.8108596 ],\n",
       "         [0.8108596 ],\n",
       "         [0.66714959],\n",
       "         [0.66714959],\n",
       "         [0.99998898],\n",
       "         [0.99998898],\n",
       "         [0.29366611],\n",
       "         [0.29366611],\n",
       "         [0.50084513],\n",
       "         [0.50084513],\n",
       "         [0.18647899],\n",
       "         [0.18647899],\n",
       "         [0.6988849 ],\n",
       "         [0.6988849 ],\n",
       "         [0.87541847],\n",
       "         [0.87541847],\n",
       "         [0.46981268],\n",
       "         [0.46981268],\n",
       "         [0.44958923],\n",
       "         [0.44958923],\n",
       "         [0.74341282],\n",
       "         [0.74341282],\n",
       "         [0.41299741],\n",
       "         [0.41299741],\n",
       "         [0.48925238],\n",
       "         [0.48925238],\n",
       "         [0.61741044],\n",
       "         [0.61741044],\n",
       "         [0.48340869],\n",
       "         [0.48340869],\n",
       "         [0.21093022],\n",
       "         [0.21093022],\n",
       "         [0.01976475],\n",
       "         [0.01976475],\n",
       "         [0.96875538],\n",
       "         [0.96875538],\n",
       "         [0.65791087],\n",
       "         [0.65791087],\n",
       "         [0.72032799],\n",
       "         [0.72032799],\n",
       "         [0.4821332 ],\n",
       "         [0.4821332 ],\n",
       "         [0.434673  ],\n",
       "         [0.434673  ],\n",
       "         [0.8688029 ],\n",
       "         [0.8688029 ],\n",
       "         [0.64582108],\n",
       "         [0.64582108],\n",
       "         [0.22204249],\n",
       "         [0.22204249],\n",
       "         [0.89529945],\n",
       "         [0.89529945],\n",
       "         [0.34975276],\n",
       "         [0.34975276],\n",
       "         [0.47013719],\n",
       "         [0.47013719],\n",
       "         [0.25348967],\n",
       "         [0.25348967],\n",
       "         [0.15772437],\n",
       "         [0.15772437],\n",
       "         [0.21195779],\n",
       "         [0.21195779],\n",
       "         [0.98993756],\n",
       "         [0.98993756],\n",
       "         [0.31332656],\n",
       "         [0.31332656],\n",
       "         [0.38248826],\n",
       "         [0.38248826],\n",
       "         [0.53815729],\n",
       "         [0.53815729],\n",
       "         [0.85882162],\n",
       "         [0.85882162],\n",
       "         [0.16469064],\n",
       "         [0.16469064],\n",
       "         [0.03940553],\n",
       "         [0.03940553],\n",
       "         [0.50974246],\n",
       "         [0.50974246],\n",
       "         [0.74903651],\n",
       "         [0.74903651],\n",
       "         [0.31463562],\n",
       "         [0.31463562],\n",
       "         [0.25698985],\n",
       "         [0.25698985],\n",
       "         [0.64225756],\n",
       "         [0.64225756],\n",
       "         [0.36507123],\n",
       "         [0.36507123],\n",
       "         [0.28774843],\n",
       "         [0.28774843],\n",
       "         [0.66240162],\n",
       "         [0.66240162],\n",
       "         [0.10447029],\n",
       "         [0.10447029],\n",
       "         [0.39234824],\n",
       "         [0.39234824],\n",
       "         [0.39657209],\n",
       "         [0.39657209],\n",
       "         [0.22839652],\n",
       "         [0.22839652],\n",
       "         [0.08004932],\n",
       "         [0.08004932],\n",
       "         [0.83658739],\n",
       "         [0.83658739],\n",
       "         [0.35417642],\n",
       "         [0.35417642],\n",
       "         [0.97927606],\n",
       "         [0.97927606],\n",
       "         [0.89201957],\n",
       "         [0.89201957],\n",
       "         [0.57237572],\n",
       "         [0.57237572],\n",
       "         [0.29498503],\n",
       "         [0.29498503],\n",
       "         [0.97737496],\n",
       "         [0.97737496],\n",
       "         [0.39201579],\n",
       "         [0.39201579],\n",
       "         [0.89406354],\n",
       "         [0.89406354],\n",
       "         [0.42872728],\n",
       "         [0.42872728],\n",
       "         [0.25054918],\n",
       "         [0.25054918],\n",
       "         [0.96552548],\n",
       "         [0.96552548],\n",
       "         [0.66791591],\n",
       "         [0.66791591],\n",
       "         [0.90542151],\n",
       "         [0.90542151],\n",
       "         [0.96025669],\n",
       "         [0.96025669],\n",
       "         [0.87084045],\n",
       "         [0.87084045],\n",
       "         [0.12856475],\n",
       "         [0.12856475],\n",
       "         [0.43627476],\n",
       "         [0.43627476],\n",
       "         [0.0239892 ],\n",
       "         [0.0239892 ],\n",
       "         [0.17999073],\n",
       "         [0.17999073],\n",
       "         [0.02893155],\n",
       "         [0.02893155],\n",
       "         [0.96793084],\n",
       "         [0.96793084],\n",
       "         [0.45560335],\n",
       "         [0.45560335],\n",
       "         [0.51508361],\n",
       "         [0.51508361],\n",
       "         [0.49648666],\n",
       "         [0.49648666],\n",
       "         [0.90999363],\n",
       "         [0.90999363],\n",
       "         [0.19146975],\n",
       "         [0.19146975],\n",
       "         [0.78703905],\n",
       "         [0.78703905],\n",
       "         [0.90400325],\n",
       "         [0.90400325],\n",
       "         [0.18354076],\n",
       "         [0.18354076],\n",
       "         [0.34926959],\n",
       "         [0.34926959],\n",
       "         [0.32039903],\n",
       "         [0.32039903],\n",
       "         [0.10817891],\n",
       "         [0.10817891]])}}"
      ]
     },
     "execution_count": 12,
     "metadata": {},
     "output_type": "execute_result"
    }
   ],
   "source": [
    "ds = load_by_id(run_id_a)\n",
    "ds.get_parameter_data('x1')"
   ]
  },
  {
   "cell_type": "code",
   "execution_count": null,
   "metadata": {},
   "outputs": [],
   "source": []
  }
 ],
 "metadata": {
  "kernelspec": {
   "display_name": "Python 3",
   "language": "python",
   "name": "python3"
  },
  "language_info": {
   "codemirror_mode": {
    "name": "ipython",
    "version": 3
   },
   "file_extension": ".py",
   "mimetype": "text/x-python",
   "name": "python",
   "nbconvert_exporter": "python",
   "pygments_lexer": "ipython3",
   "version": "3.11.8"
  },
  "nbsphinx": {
   "timeout": 600
  },
  "toc": {
   "base_numbering": 1,
   "nav_menu": {},
   "number_sections": true,
   "sideBar": true,
   "skip_h1_title": false,
   "title_cell": "Table of Contents",
   "title_sidebar": "Contents",
   "toc_cell": false,
   "toc_position": {},
   "toc_section_display": true,
   "toc_window_display": false
  },
  "varInspector": {
   "cols": {
    "lenName": 16,
    "lenType": 16,
    "lenVar": 40
   },
   "kernels_config": {
    "python": {
     "delete_cmd_postfix": "",
     "delete_cmd_prefix": "del ",
     "library": "var_list.py",
     "varRefreshCmd": "print(var_dic_list())"
    },
    "r": {
     "delete_cmd_postfix": ") ",
     "delete_cmd_prefix": "rm(",
     "library": "var_list.r",
     "varRefreshCmd": "cat(var_dic_list()) "
    }
   },
   "types_to_exclude": [
    "module",
    "function",
    "builtin_function_or_method",
    "instance",
    "_Feature"
   ],
   "window_display": false
  }
 },
 "nbformat": 4,
 "nbformat_minor": 4
}
